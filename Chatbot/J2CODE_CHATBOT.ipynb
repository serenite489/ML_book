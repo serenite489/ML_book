{
 "cells": [
  {
   "cell_type": "markdown",
   "metadata": {},
   "source": [
    "## 1. Load Libraries & Datas"
   ]
  },
  {
   "cell_type": "code",
   "execution_count": 14,
   "metadata": {},
   "outputs": [],
   "source": [
    "#import needed libraries\n",
    "import numpy as np\n",
    "import pandas as pd\n",
    "from sklearn.feature_extraction.text import TfidfVectorizer\n",
    "from nltk.tokenize import word_tokenize\n",
    "from nltk.corpus import stopwords\n",
    "from nltk.stem import WordNetLemmatizer\n",
    "from nltk import pos_tag\n",
    "from nltk.corpus import wordnet"
   ]
  },
  {
   "cell_type": "code",
   "execution_count": 15,
   "metadata": {},
   "outputs": [],
   "source": [
    "# load bot dataset\n",
    "df = pd.read_csv('data.txt', sep='\\n', header=None, names=[\"data\"])"
   ]
  },
  {
   "cell_type": "code",
   "execution_count": 16,
   "metadata": {},
   "outputs": [
    {
     "name": "stdout",
     "output_type": "stream",
     "text": [
      "(83, 1)\n"
     ]
    },
    {
     "data": {
      "text/html": [
       "<div>\n",
       "<style scoped>\n",
       "    .dataframe tbody tr th:only-of-type {\n",
       "        vertical-align: middle;\n",
       "    }\n",
       "\n",
       "    .dataframe tbody tr th {\n",
       "        vertical-align: top;\n",
       "    }\n",
       "\n",
       "    .dataframe thead th {\n",
       "        text-align: right;\n",
       "    }\n",
       "</style>\n",
       "<table border=\"1\" class=\"dataframe\">\n",
       "  <thead>\n",
       "    <tr style=\"text-align: right;\">\n",
       "      <th></th>\n",
       "      <th>data</th>\n",
       "    </tr>\n",
       "  </thead>\n",
       "  <tbody>\n",
       "    <tr>\n",
       "      <th>0</th>\n",
       "      <td>Coronaviruses are a large family of viruses wh...</td>\n",
       "    </tr>\n",
       "    <tr>\n",
       "      <th>1</th>\n",
       "      <td>COVID-19 is the infectious disease caused by t...</td>\n",
       "    </tr>\n",
       "    <tr>\n",
       "      <th>2</th>\n",
       "      <td>The most common symptoms of COVID-19 are fever...</td>\n",
       "    </tr>\n",
       "    <tr>\n",
       "      <th>3</th>\n",
       "      <td>Most people (about 80%) recover from the disea...</td>\n",
       "    </tr>\n",
       "    <tr>\n",
       "      <th>4</th>\n",
       "      <td>If you have minor symptoms, such as a slight c...</td>\n",
       "    </tr>\n",
       "  </tbody>\n",
       "</table>\n",
       "</div>"
      ],
      "text/plain": [
       "                                                data\n",
       "0  Coronaviruses are a large family of viruses wh...\n",
       "1  COVID-19 is the infectious disease caused by t...\n",
       "2  The most common symptoms of COVID-19 are fever...\n",
       "3  Most people (about 80%) recover from the disea...\n",
       "4  If you have minor symptoms, such as a slight c..."
      ]
     },
     "execution_count": 16,
     "metadata": {},
     "output_type": "execute_result"
    }
   ],
   "source": [
    "print(df.shape)\n",
    "df.head()"
   ]
  },
  {
   "cell_type": "markdown",
   "metadata": {},
   "source": [
    "## 2. Préprocessing"
   ]
  },
  {
   "cell_type": "code",
   "execution_count": 17,
   "metadata": {},
   "outputs": [],
   "source": [
    "def get_wordnet_pos(pos_tag):\n",
    "    # canonical form\n",
    "    output = np.asarray(pos_tag)\n",
    "    for i in range(len(pos_tag)):\n",
    "        if pos_tag[i][1].startswith('J'):\n",
    "            output[i][1] = wordnet.ADJ\n",
    "        elif pos_tag[i][1].startswith('V'):\n",
    "            output[i][1] = wordnet.VERB\n",
    "        elif pos_tag[i][1].startswith('R'):\n",
    "            output[i][1] = wordnet.ADV\n",
    "        else:\n",
    "            output[i][1] = wordnet.NOUN\n",
    "    return output\n",
    "\n",
    "\n",
    "lemmatizer = WordNetLemmatizer()\n",
    "stop_words = stopwords.words(\"english\")\n",
    "\n",
    "def preprocessing_func(article):\n",
    "    # Tokenize\n",
    "    tokens = word_tokenize(article)\n",
    "    # Remove punctuation\n",
    "    tokens = [t.lower() for t in tokens if (t.lower() == 'covid-19' or t.isalpha())]\n",
    "    # Remove stop words\n",
    "    tokens = [t for t in tokens if t not in stop_words]\n",
    "    tokens_postag = get_wordnet_pos(pos_tag(tokens))\n",
    "    tokens_clean = [lemmatizer.lemmatize(t, postag) for t, postag in tokens_postag]\n",
    "    return tokens_clean"
   ]
  },
  {
   "cell_type": "code",
   "execution_count": 18,
   "metadata": {},
   "outputs": [
    {
     "data": {
      "text/html": [
       "<div>\n",
       "<style scoped>\n",
       "    .dataframe tbody tr th:only-of-type {\n",
       "        vertical-align: middle;\n",
       "    }\n",
       "\n",
       "    .dataframe tbody tr th {\n",
       "        vertical-align: top;\n",
       "    }\n",
       "\n",
       "    .dataframe thead th {\n",
       "        text-align: right;\n",
       "    }\n",
       "</style>\n",
       "<table border=\"1\" class=\"dataframe\">\n",
       "  <thead>\n",
       "    <tr style=\"text-align: right;\">\n",
       "      <th></th>\n",
       "      <th>data</th>\n",
       "      <th>tokens</th>\n",
       "    </tr>\n",
       "  </thead>\n",
       "  <tbody>\n",
       "    <tr>\n",
       "      <th>0</th>\n",
       "      <td>Coronaviruses are a large family of viruses wh...</td>\n",
       "      <td>[coronaviruses, large, family, virus, may, cau...</td>\n",
       "    </tr>\n",
       "    <tr>\n",
       "      <th>1</th>\n",
       "      <td>COVID-19 is the infectious disease caused by t...</td>\n",
       "      <td>[covid-19, infectious, disease, cause, recentl...</td>\n",
       "    </tr>\n",
       "    <tr>\n",
       "      <th>2</th>\n",
       "      <td>The most common symptoms of COVID-19 are fever...</td>\n",
       "      <td>[common, symptom, covid-19, fever, dry, cough,...</td>\n",
       "    </tr>\n",
       "    <tr>\n",
       "      <th>3</th>\n",
       "      <td>Most people (about 80%) recover from the disea...</td>\n",
       "      <td>[people, recover, disease, without, need, hosp...</td>\n",
       "    </tr>\n",
       "    <tr>\n",
       "      <th>4</th>\n",
       "      <td>If you have minor symptoms, such as a slight c...</td>\n",
       "      <td>[minor, symptom, slight, cough, mild, fever, g...</td>\n",
       "    </tr>\n",
       "  </tbody>\n",
       "</table>\n",
       "</div>"
      ],
      "text/plain": [
       "                                                data  \\\n",
       "0  Coronaviruses are a large family of viruses wh...   \n",
       "1  COVID-19 is the infectious disease caused by t...   \n",
       "2  The most common symptoms of COVID-19 are fever...   \n",
       "3  Most people (about 80%) recover from the disea...   \n",
       "4  If you have minor symptoms, such as a slight c...   \n",
       "\n",
       "                                              tokens  \n",
       "0  [coronaviruses, large, family, virus, may, cau...  \n",
       "1  [covid-19, infectious, disease, cause, recentl...  \n",
       "2  [common, symptom, covid-19, fever, dry, cough,...  \n",
       "3  [people, recover, disease, without, need, hosp...  \n",
       "4  [minor, symptom, slight, cough, mild, fever, g...  "
      ]
     },
     "execution_count": 18,
     "metadata": {},
     "output_type": "execute_result"
    }
   ],
   "source": [
    "# Text preprocessing\n",
    "df[\"tokens\"] = df[\"data\"].apply(lambda x: preprocessing_func(x))\n",
    "df.head()"
   ]
  },
  {
   "cell_type": "markdown",
   "metadata": {},
   "source": [
    "## 3. TF-IDF"
   ]
  },
  {
   "cell_type": "code",
   "execution_count": 19,
   "metadata": {},
   "outputs": [],
   "source": [
    "# Instantiate the TF-IDF vectorizer\n",
    "vectorizer = TfidfVectorizer(analyzer=lambda x: x)"
   ]
  },
  {
   "cell_type": "code",
   "execution_count": 20,
   "metadata": {},
   "outputs": [
    {
     "data": {
      "text/plain": [
       "(83, 518)"
      ]
     },
     "execution_count": 20,
     "metadata": {},
     "output_type": "execute_result"
    }
   ],
   "source": [
    "# Compute the TF-IDF\n",
    "tfidf = vectorizer.fit_transform(df['tokens']).toarray()\n",
    "tfidf.shape"
   ]
  },
  {
   "cell_type": "markdown",
   "metadata": {},
   "source": [
    "## 4. cosine similarity"
   ]
  },
  {
   "cell_type": "code",
   "execution_count": 21,
   "metadata": {},
   "outputs": [],
   "source": [
    "# Load metrics\n",
    "from sklearn.metrics.pairwise import cosine_similarity"
   ]
  },
  {
   "cell_type": "code",
   "execution_count": 22,
   "metadata": {},
   "outputs": [],
   "source": [
    "#implement get_closest_sentence(query, tf_idf, vectorizer)\n",
    "def get_closest_sentence(query, tfidf, vectorizer):\n",
    "    query_tfidf = vectorizer.transform([preprocessing_func(query)]).toarray()\n",
    "    sim = cosine_similarity(query_tfidf, tfidf)\n",
    "    return sim.max(), sim.argmax()"
   ]
  },
  {
   "cell_type": "code",
   "execution_count": 23,
   "metadata": {},
   "outputs": [],
   "source": [
    "# Define the greetings words and answers in two variables\n",
    "greetings_inputs = ['hello', 'hi', 'good morning', 'hey']\n",
    "greetings_answers = ['Hey there, I am CovidBot, how can I help you?', 'Hello, my name is CovidBot, nice to meet you.','CovidBot at your service, sir.', 'Hi Master, I am CovidBot.']\n",
    "small_talks = [\"Thanks for getting in touch with me\", \"I am so sorry I do not understand your point\",\"I'll make sure to understand you after my next update\"]"
   ]
  },
  {
   "cell_type": "code",
   "execution_count": 24,
   "metadata": {},
   "outputs": [],
   "source": [
    "def greetings(sentence, greetings_inputs, greetings_outputs):\n",
    "    for word in sentence.split():\n",
    "        if word.lower() in greetings_inputs:\n",
    "            return greetings_outputs[np.random.randint(len(greetings_outputs))]"
   ]
  },
  {
   "cell_type": "markdown",
   "metadata": {},
   "source": [
    "## 5. Assembly"
   ]
  },
  {
   "cell_type": "code",
   "execution_count": 27,
   "metadata": {},
   "outputs": [],
   "source": [
    "def covidbot(greetings_inputs, greetings_outputs, tf_idf, vectorizer, database):\n",
    "    print('Please type rour question here')\n",
    "    \n",
    "    quit = False\n",
    "    \n",
    "    while(quit==False):\n",
    "        query = input(\"&gt;\")\n",
    "        greet = greetings(query, greetings_inputs, greetings_outputs)\n",
    "        if(greet!=None):\n",
    "            print(\"CovidBot: \"+greet)\n",
    "        elif query.lower()==\"bye\":\n",
    "            print(\"Bye! Have a wonderful day!\")\n",
    "            quit = True\n",
    "        else:\n",
    "            sim, closest = get_closest_sentence(query, tf_idf, vectorizer)\n",
    "            if sim > 0.1:\n",
    "                answer = database[\"data\"].iloc[closest]\n",
    "            else:\n",
    "                answer = small_talks[np.random.randint(len(small_talks))]\n",
    "            print(answer)"
   ]
  },
  {
   "cell_type": "markdown",
   "metadata": {},
   "source": [
    "## 6. Test"
   ]
  },
  {
   "cell_type": "code",
   "execution_count": 28,
   "metadata": {},
   "outputs": [
    {
     "name": "stdout",
     "output_type": "stream",
     "text": [
      "Please type rour question here\n",
      "&gt;hello\n",
      "CovidBot: Hello, my name is CovidBot, nice to meet you.\n",
      "&gt;what's covid-19?\n",
      "COVID-19 is mainly spread through respiratory droplets expelled by someone who is coughing or has other symptoms such as fever or tiredness. Many people with COVID-19 experience only mild symptoms. This is particularly true in the early stages of the disease. It is possible to catch COVID-19 from someone who has just a mild cough and does not feel ill.\n",
      "&gt;what's coronavirus ?\n",
      "Coronaviruses are a large family of viruses which may cause illness in animals or humans.  In humans, several coronaviruses are known to cause respiratory infections ranging from the common cold to more severe diseases such as Middle East Respiratory Syndrome (MERS) and Severe Acute Respiratory Syndrome (SARS). The most recently discovered coronavirus causes coronavirus disease COVID-19.\n",
      "&gt;bye\n",
      "Bye! Have a wonderful day!\n"
     ]
    }
   ],
   "source": [
    "covidbot(greetings_inputs, greetings_answers, tfidf, vectorizer, df)"
   ]
  },
  {
   "cell_type": "code",
   "execution_count": null,
   "metadata": {},
   "outputs": [],
   "source": []
  },
  {
   "cell_type": "code",
   "execution_count": null,
   "metadata": {},
   "outputs": [],
   "source": []
  }
 ],
 "metadata": {
  "kernelspec": {
   "display_name": "Python 3",
   "language": "python",
   "name": "python3"
  },
  "language_info": {
   "codemirror_mode": {
    "name": "ipython",
    "version": 3
   },
   "file_extension": ".py",
   "mimetype": "text/x-python",
   "name": "python",
   "nbconvert_exporter": "python",
   "pygments_lexer": "ipython3",
   "version": "3.7.5"
  }
 },
 "nbformat": 4,
 "nbformat_minor": 2
}
